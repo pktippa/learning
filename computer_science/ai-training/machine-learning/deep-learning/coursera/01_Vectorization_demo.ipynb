{
 "cells": [
  {
   "cell_type": "markdown",
   "metadata": {},
   "source": [
    "# Vecotrization\n",
    "\n",
    "Why vectorization is important than using the explicit for loops, "
   ]
  },
  {
   "cell_type": "code",
   "execution_count": 1,
   "metadata": {},
   "outputs": [],
   "source": [
    "# Importing necessary modules\n",
    "import numpy as np\n",
    "import time"
   ]
  },
  {
   "cell_type": "code",
   "execution_count": 2,
   "metadata": {},
   "outputs": [],
   "source": [
    "# Getting a random 1 million dimensional matrix\n",
    "a = np.random.rand(100000)\n",
    "# Getting another random matrix\n",
    "b = np.random.rand(100000)"
   ]
  },
  {
   "cell_type": "code",
   "execution_count": 3,
   "metadata": {},
   "outputs": [
    {
     "name": "stdout",
     "output_type": "stream",
     "text": [
      "For Vectorization , c =  25018.917232656837  time= 10.018348693847656 ms\n"
     ]
    }
   ],
   "source": [
    "# Calculating the start time\n",
    "tic = time.time()\n",
    "\n",
    "# Calculating the product (which is one of the computation in computation graph)\n",
    "c = np.dot(a,b)\n",
    "\n",
    "# calculating the end time\n",
    "toc = time.time()\n",
    "\n",
    "print('For Vectorization , c = ', c, ' time=', 10000*(toc-tic), 'ms')"
   ]
  },
  {
   "cell_type": "code",
   "execution_count": 4,
   "metadata": {},
   "outputs": [],
   "source": [
    "# Re-initializing to 0\n",
    "c = 0"
   ]
  },
  {
   "cell_type": "code",
   "execution_count": 5,
   "metadata": {},
   "outputs": [
    {
     "name": "stdout",
     "output_type": "stream",
     "text": [
      "Using explicit for loop, c =  25018.917232656648  time= 1040.7543182373047 ms\n"
     ]
    }
   ],
   "source": [
    "# By using explict for loop\n",
    "# start time\n",
    "tic = time.time()\n",
    "for i in range(100000):\n",
    "    # Calculating the cumilative value of c\n",
    "    c += a[i] * b[i]\n",
    "# end time\n",
    "toc = time.time()\n",
    "\n",
    "print('Using explicit for loop, c = ', c, ' time=', 10000*(toc-tic), 'ms')"
   ]
  },
  {
   "cell_type": "markdown",
   "metadata": {},
   "source": [
    "## Observation\n",
    "\n",
    "We can see the for calculating the same value using explit for loop took lot of more time compared to time taken by using the Vectorization, this is why using vectorization is very important in using Neural Networks."
   ]
  }
 ],
 "metadata": {
  "kernelspec": {
   "display_name": "Python 3",
   "language": "python",
   "name": "python3"
  },
  "language_info": {
   "codemirror_mode": {
    "name": "ipython",
    "version": 3
   },
   "file_extension": ".py",
   "mimetype": "text/x-python",
   "name": "python",
   "nbconvert_exporter": "python",
   "pygments_lexer": "ipython3",
   "version": "3.6.4"
  }
 },
 "nbformat": 4,
 "nbformat_minor": 2
}
