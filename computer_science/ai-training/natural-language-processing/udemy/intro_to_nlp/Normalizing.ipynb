{
 "cells": [
  {
   "cell_type": "markdown",
   "metadata": {},
   "source": [
    "Normalizing is the act of cleaning text data to make it uniform\n",
    "Ex: \n",
    "1. Removing all other non alphabetic character words from the tokens => [',', 'Pradeep', 'x22', 'tippa', '}'] -> ['Pradeep', 'tippa'] \n",
    "2. Converting all words into lower case so that we can analyse easily, example 'Cat', 'cat' shouldnt show up as different word tokens when we do token distribution. => ['Pradeep', 'tippa'] -> ['pradeep', 'tippa']\n",
    "3. Using Stemmers - Stemming is the automated process which produces a base string in an attempt to represent related words\n",
    "4. Using Lemmatizer - Lemmatization usually refers to doing things properly with the use of a vocabulary and morphological analysis of words, normally aiming to remove inflectional endings only and to return the base or dictionary form of a word, which is known as the lemma ."
   ]
  },
  {
   "cell_type": "code",
   "execution_count": 1,
   "metadata": {},
   "outputs": [],
   "source": [
    "import nltk"
   ]
  },
  {
   "cell_type": "code",
   "execution_count": 2,
   "metadata": {},
   "outputs": [],
   "source": [
    "alice = nltk.corpus.gutenberg.words('carroll-alice.txt')"
   ]
  },
  {
   "cell_type": "code",
   "execution_count": 3,
   "metadata": {},
   "outputs": [
    {
     "data": {
      "text/plain": [
       "['[',\n",
       " 'Alice',\n",
       " \"'\",\n",
       " 's',\n",
       " 'Adventures',\n",
       " 'in',\n",
       " 'Wonderland',\n",
       " 'by',\n",
       " 'Lewis',\n",
       " 'Carroll',\n",
       " '1865',\n",
       " ']',\n",
       " 'CHAPTER',\n",
       " 'I',\n",
       " '.',\n",
       " 'Down',\n",
       " 'the',\n",
       " 'Rabbit',\n",
       " '-',\n",
       " 'Hole']"
      ]
     },
     "execution_count": 3,
     "metadata": {},
     "output_type": "execute_result"
    }
   ],
   "source": [
    "# Just printing first 20 words of the book\n",
    "alice[:20]"
   ]
  },
  {
   "cell_type": "code",
   "execution_count": 4,
   "metadata": {},
   "outputs": [],
   "source": [
    "# taking into variable for processing these words\n",
    "alice_20 = alice[:20]"
   ]
  },
  {
   "cell_type": "code",
   "execution_count": 5,
   "metadata": {},
   "outputs": [
    {
     "name": "stdout",
     "output_type": "stream",
     "text": [
      "Alice\n",
      "s\n",
      "Adventures\n",
      "in\n",
      "Wonderland\n",
      "by\n",
      "Lewis\n",
      "Carroll\n",
      "CHAPTER\n",
      "I\n",
      "Down\n",
      "the\n",
      "Rabbit\n",
      "Hole\n"
     ]
    }
   ],
   "source": [
    "# For removing all non alphabetic words we can use .isalpha() method\n",
    "# Obs: We have removed all the other non alphabetic character words\n",
    "for word in alice_20:\n",
    "    if word.isalpha():\n",
    "        print(word)"
   ]
  },
  {
   "cell_type": "code",
   "execution_count": 6,
   "metadata": {},
   "outputs": [
    {
     "name": "stdout",
     "output_type": "stream",
     "text": [
      "[\n",
      "alice\n",
      "'\n",
      "s\n",
      "adventures\n",
      "in\n",
      "wonderland\n",
      "by\n",
      "lewis\n",
      "carroll\n",
      "1865\n",
      "]\n",
      "chapter\n",
      "i\n",
      ".\n",
      "down\n",
      "the\n",
      "rabbit\n",
      "-\n",
      "hole\n"
     ]
    }
   ],
   "source": [
    "# To do further normalize the text data we can convert the all words to lower case\n",
    "# to do so we can use .lower() method on string\n",
    "for word in alice_20:\n",
    "    print(word.lower())"
   ]
  },
  {
   "cell_type": "code",
   "execution_count": 7,
   "metadata": {},
   "outputs": [
    {
     "name": "stdout",
     "output_type": "stream",
     "text": [
      "alice\n",
      "s\n",
      "adventures\n",
      "in\n",
      "wonderland\n",
      "by\n",
      "lewis\n",
      "carroll\n",
      "chapter\n",
      "i\n",
      "down\n",
      "the\n",
      "rabbit\n",
      "hole\n"
     ]
    }
   ],
   "source": [
    "# Now combining the above two a) keeping only alphabetic words, b) converting to lower\n",
    "# using list compression to forming the new list and using the same in iterating items ex: for <item> in <list>\n",
    "for word in [word.lower() for word in alice_20 if word.isalpha()]:\n",
    "    print(word)"
   ]
  },
  {
   "cell_type": "code",
   "execution_count": 8,
   "metadata": {},
   "outputs": [],
   "source": [
    "# lets have some sample data and see how we can use stemmers and lemmetizers\n",
    "# Stemmers are faster to run but doesnt give reliable results\n",
    "# Lemmetizers are compute intensive(slow to run) but does analysis and gives results(sometimes this also not reliable)\n",
    "sample_data = ['cats', 'cat', 'lie', 'lying', 'fly', 'flying', 'run', 'ran', 'year', 'yearly',\n",
    "               'puppy', 'puppies', 'woman', 'women', 'fast', 'faster']"
   ]
  },
  {
   "cell_type": "code",
   "execution_count": 9,
   "metadata": {},
   "outputs": [],
   "source": [
    "# Using the PorterStemmer\n",
    "porter = nltk.PorterStemmer()"
   ]
  },
  {
   "cell_type": "code",
   "execution_count": 10,
   "metadata": {},
   "outputs": [
    {
     "name": "stdout",
     "output_type": "stream",
     "text": [
      "cat\n",
      "cat\n",
      "lie\n",
      "lie\n",
      "fli\n",
      "fli\n",
      "run\n",
      "ran\n",
      "year\n",
      "yearli\n",
      "puppi\n",
      "puppi\n",
      "woman\n",
      "women\n",
      "fast\n",
      "faster\n"
     ]
    }
   ],
   "source": [
    "# Obs: Some words were able to be normalize correctly whereas some are not\n",
    "for word in sample_data:\n",
    "    print(porter.stem(word))"
   ]
  },
  {
   "cell_type": "code",
   "execution_count": 11,
   "metadata": {},
   "outputs": [],
   "source": [
    "# Lets try another Stemmer\n",
    "lancaster = nltk.LancasterStemmer()"
   ]
  },
  {
   "cell_type": "code",
   "execution_count": 12,
   "metadata": {},
   "outputs": [
    {
     "name": "stdout",
     "output_type": "stream",
     "text": [
      "cat\n",
      "cat\n",
      "lie\n",
      "lying\n",
      "fly\n",
      "fly\n",
      "run\n",
      "ran\n",
      "year\n",
      "year\n",
      "puppy\n",
      "puppy\n",
      "wom\n",
      "wom\n",
      "fast\n",
      "fast\n"
     ]
    }
   ],
   "source": [
    "# Obs: same as above, Some words were able to be normalize correctly whereas some are not\n",
    "# So we cannot completely rely on one Stemmer to normalize the text\n",
    "for word in sample_data:\n",
    "    print(lancaster.stem(word))"
   ]
  },
  {
   "cell_type": "code",
   "execution_count": 13,
   "metadata": {},
   "outputs": [],
   "source": [
    "# Lets have a look at the Lemmetizer now\n",
    "wnlem = nltk.WordNetLemmatizer()"
   ]
  },
  {
   "cell_type": "code",
   "execution_count": 14,
   "metadata": {},
   "outputs": [
    {
     "name": "stdout",
     "output_type": "stream",
     "text": [
      "cat\n",
      "cat\n",
      "lie\n",
      "lying\n",
      "fly\n",
      "flying\n",
      "run\n",
      "ran\n",
      "year\n",
      "yearly\n",
      "puppy\n",
      "puppy\n",
      "woman\n",
      "woman\n",
      "fast\n",
      "faster\n"
     ]
    }
   ],
   "source": [
    "# Obs: .lemmatize is a compute intensive operation\n",
    "# This also not able to normalize the words fully.\n",
    "for word in sample_data:\n",
    "    print(wnlem.lemmatize(word))"
   ]
  },
  {
   "cell_type": "code",
   "execution_count": null,
   "metadata": {},
   "outputs": [],
   "source": []
  }
 ],
 "metadata": {
  "kernelspec": {
   "display_name": "Python 3",
   "language": "python",
   "name": "python3"
  },
  "language_info": {
   "codemirror_mode": {
    "name": "ipython",
    "version": 3
   },
   "file_extension": ".py",
   "mimetype": "text/x-python",
   "name": "python",
   "nbconvert_exporter": "python",
   "pygments_lexer": "ipython3",
   "version": "3.6.4"
  }
 },
 "nbformat": 4,
 "nbformat_minor": 2
}
