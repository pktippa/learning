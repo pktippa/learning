{
 "cells": [
  {
   "cell_type": "code",
   "execution_count": 1,
   "metadata": {},
   "outputs": [],
   "source": [
    "# Importing nltk\n",
    "import nltk"
   ]
  },
  {
   "cell_type": "code",
   "execution_count": 2,
   "metadata": {},
   "outputs": [],
   "source": [
    "# Importing inaugural corpus from nltk\n",
    "from nltk.corpus import inaugural"
   ]
  },
  {
   "cell_type": "code",
   "execution_count": 3,
   "metadata": {},
   "outputs": [
    {
     "data": {
      "text/plain": [
       "['1789-Washington.txt',\n",
       " '1793-Washington.txt',\n",
       " '1797-Adams.txt',\n",
       " '1801-Jefferson.txt',\n",
       " '1805-Jefferson.txt',\n",
       " '1809-Madison.txt',\n",
       " '1813-Madison.txt',\n",
       " '1817-Monroe.txt',\n",
       " '1821-Monroe.txt',\n",
       " '1825-Adams.txt',\n",
       " '1829-Jackson.txt',\n",
       " '1833-Jackson.txt',\n",
       " '1837-VanBuren.txt',\n",
       " '1841-Harrison.txt',\n",
       " '1845-Polk.txt',\n",
       " '1849-Taylor.txt',\n",
       " '1853-Pierce.txt',\n",
       " '1857-Buchanan.txt',\n",
       " '1861-Lincoln.txt',\n",
       " '1865-Lincoln.txt',\n",
       " '1869-Grant.txt',\n",
       " '1873-Grant.txt',\n",
       " '1877-Hayes.txt',\n",
       " '1881-Garfield.txt',\n",
       " '1885-Cleveland.txt',\n",
       " '1889-Harrison.txt',\n",
       " '1893-Cleveland.txt',\n",
       " '1897-McKinley.txt',\n",
       " '1901-McKinley.txt',\n",
       " '1905-Roosevelt.txt',\n",
       " '1909-Taft.txt',\n",
       " '1913-Wilson.txt',\n",
       " '1917-Wilson.txt',\n",
       " '1921-Harding.txt',\n",
       " '1925-Coolidge.txt',\n",
       " '1929-Hoover.txt',\n",
       " '1933-Roosevelt.txt',\n",
       " '1937-Roosevelt.txt',\n",
       " '1941-Roosevelt.txt',\n",
       " '1945-Roosevelt.txt',\n",
       " '1949-Truman.txt',\n",
       " '1953-Eisenhower.txt',\n",
       " '1957-Eisenhower.txt',\n",
       " '1961-Kennedy.txt',\n",
       " '1965-Johnson.txt',\n",
       " '1969-Nixon.txt',\n",
       " '1973-Nixon.txt',\n",
       " '1977-Carter.txt',\n",
       " '1981-Reagan.txt',\n",
       " '1985-Reagan.txt',\n",
       " '1989-Bush.txt',\n",
       " '1993-Clinton.txt',\n",
       " '1997-Clinton.txt',\n",
       " '2001-Bush.txt',\n",
       " '2005-Bush.txt',\n",
       " '2009-Obama.txt']"
      ]
     },
     "execution_count": 3,
     "metadata": {},
     "output_type": "execute_result"
    }
   ],
   "source": [
    "# Retrieving the fileids available in inaugural\n",
    "inaugural.fileids()"
   ]
  },
  {
   "cell_type": "code",
   "execution_count": 4,
   "metadata": {},
   "outputs": [
    {
     "name": "stdout",
     "output_type": "stream",
     "text": [
      "words - 1538 | speech - 1789-Washington.txt\n",
      "words - 147 | speech - 1793-Washington.txt\n",
      "words - 2585 | speech - 1797-Adams.txt\n",
      "words - 1935 | speech - 1801-Jefferson.txt\n",
      "words - 2384 | speech - 1805-Jefferson.txt\n",
      "words - 1265 | speech - 1809-Madison.txt\n",
      "words - 1304 | speech - 1813-Madison.txt\n",
      "words - 3693 | speech - 1817-Monroe.txt\n",
      "words - 4909 | speech - 1821-Monroe.txt\n",
      "words - 3150 | speech - 1825-Adams.txt\n",
      "words - 1208 | speech - 1829-Jackson.txt\n",
      "words - 1267 | speech - 1833-Jackson.txt\n",
      "words - 4171 | speech - 1837-VanBuren.txt\n",
      "words - 9165 | speech - 1841-Harrison.txt\n",
      "words - 5196 | speech - 1845-Polk.txt\n",
      "words - 1182 | speech - 1849-Taylor.txt\n",
      "words - 3657 | speech - 1853-Pierce.txt\n",
      "words - 3098 | speech - 1857-Buchanan.txt\n",
      "words - 4005 | speech - 1861-Lincoln.txt\n",
      "words - 785 | speech - 1865-Lincoln.txt\n",
      "words - 1239 | speech - 1869-Grant.txt\n",
      "words - 1478 | speech - 1873-Grant.txt\n",
      "words - 2724 | speech - 1877-Hayes.txt\n",
      "words - 3239 | speech - 1881-Garfield.txt\n",
      "words - 1828 | speech - 1885-Cleveland.txt\n",
      "words - 4750 | speech - 1889-Harrison.txt\n",
      "words - 2153 | speech - 1893-Cleveland.txt\n",
      "words - 4371 | speech - 1897-McKinley.txt\n",
      "words - 2450 | speech - 1901-McKinley.txt\n",
      "words - 1091 | speech - 1905-Roosevelt.txt\n",
      "words - 5846 | speech - 1909-Taft.txt\n",
      "words - 1905 | speech - 1913-Wilson.txt\n",
      "words - 1656 | speech - 1917-Wilson.txt\n",
      "words - 3756 | speech - 1921-Harding.txt\n",
      "words - 4442 | speech - 1925-Coolidge.txt\n",
      "words - 3890 | speech - 1929-Hoover.txt\n",
      "words - 2063 | speech - 1933-Roosevelt.txt\n",
      "words - 2019 | speech - 1937-Roosevelt.txt\n",
      "words - 1536 | speech - 1941-Roosevelt.txt\n",
      "words - 637 | speech - 1945-Roosevelt.txt\n",
      "words - 2528 | speech - 1949-Truman.txt\n",
      "words - 2775 | speech - 1953-Eisenhower.txt\n",
      "words - 1917 | speech - 1957-Eisenhower.txt\n",
      "words - 1546 | speech - 1961-Kennedy.txt\n",
      "words - 1715 | speech - 1965-Johnson.txt\n",
      "words - 2425 | speech - 1969-Nixon.txt\n",
      "words - 2028 | speech - 1973-Nixon.txt\n",
      "words - 1380 | speech - 1977-Carter.txt\n",
      "words - 2801 | speech - 1981-Reagan.txt\n",
      "words - 2946 | speech - 1985-Reagan.txt\n",
      "words - 2713 | speech - 1989-Bush.txt\n",
      "words - 1855 | speech - 1993-Clinton.txt\n",
      "words - 2462 | speech - 1997-Clinton.txt\n",
      "words - 1825 | speech - 2001-Bush.txt\n",
      "words - 2376 | speech - 2005-Bush.txt\n",
      "words - 2726 | speech - 2009-Obama.txt\n"
     ]
    }
   ],
   "source": [
    "# now finding out the number of words that are there in each speech\n",
    "for speech in inaugural.fileids():\n",
    "    # Getting the length of words, inaugural.words() gives the number of words\n",
    "    words_count = len(inaugural.words(speech))\n",
    "    # printing the no of words\n",
    "    print('words -', words_count, '| speech -', speech)"
   ]
  },
  {
   "cell_type": "code",
   "execution_count": 5,
   "metadata": {},
   "outputs": [],
   "source": [
    "# Now lets try to get the maximum and minimum no of words per speech\n",
    "# we can keep the data in a tuple and call the max(), min() functions\n",
    "# to retrieve the results, the same above command lets put in tuple using list compression\n",
    "speech_words = [((len(inaugural.words(speech)), speech)) for speech in inaugural.fileids()]"
   ]
  },
  {
   "cell_type": "code",
   "execution_count": 6,
   "metadata": {},
   "outputs": [],
   "source": [
    "max_speech_words, min_speech_words = max(speech_words), min(speech_words)"
   ]
  },
  {
   "cell_type": "code",
   "execution_count": 7,
   "metadata": {},
   "outputs": [
    {
     "name": "stdout",
     "output_type": "stream",
     "text": [
      "max - (9165, '1841-Harrison.txt') | min - (147, '1793-Washington.txt')\n"
     ]
    }
   ],
   "source": [
    "print('max -', max_speech_words, '| min -', min_speech_words)"
   ]
  },
  {
   "cell_type": "code",
   "execution_count": 8,
   "metadata": {},
   "outputs": [],
   "source": [
    "# Now lets try to get average number of words per sentence\n",
    "# average_num_of_words_per_sentence = number_of_words/number_of_sentences\n",
    "# To get the num of sentences use -  inaugural.sents\n",
    "speech_words_and_sentences_count = [(len(inaugural.words(speech)), len(inaugural.sents(speech)), speech) \n",
    "                             for speech in inaugural.fileids()]"
   ]
  },
  {
   "cell_type": "code",
   "execution_count": 9,
   "metadata": {},
   "outputs": [
    {
     "name": "stdout",
     "output_type": "stream",
     "text": [
      "Avg - 64.08333333333333 | speech - 1789-Washington.txt\n",
      "Avg - 36.75 | speech - 1793-Washington.txt\n",
      "Avg - 69.86486486486487 | speech - 1797-Adams.txt\n",
      "Avg - 46.07142857142857 | speech - 1801-Jefferson.txt\n",
      "Avg - 52.977777777777774 | speech - 1805-Jefferson.txt\n",
      "Avg - 60.23809523809524 | speech - 1809-Madison.txt\n",
      "Avg - 39.515151515151516 | speech - 1813-Madison.txt\n",
      "Avg - 30.270491803278688 | speech - 1817-Monroe.txt\n",
      "Avg - 38.054263565891475 | speech - 1821-Monroe.txt\n",
      "Avg - 42.567567567567565 | speech - 1825-Adams.txt\n",
      "Avg - 48.32 | speech - 1829-Jackson.txt\n",
      "Avg - 42.233333333333334 | speech - 1833-Jackson.txt\n",
      "Avg - 43.90526315789474 | speech - 1837-VanBuren.txt\n",
      "Avg - 43.642857142857146 | speech - 1841-Harrison.txt\n",
      "Avg - 33.96078431372549 | speech - 1845-Polk.txt\n",
      "Avg - 53.72727272727273 | speech - 1849-Taylor.txt\n",
      "Avg - 35.16346153846154 | speech - 1853-Pierce.txt\n",
      "Avg - 34.80898876404494 | speech - 1857-Buchanan.txt\n",
      "Avg - 29.02173913043478 | speech - 1861-Lincoln.txt\n",
      "Avg - 29.074074074074073 | speech - 1865-Lincoln.txt\n",
      "Avg - 30.21951219512195 | speech - 1869-Grant.txt\n",
      "Avg - 33.59090909090909 | speech - 1873-Grant.txt\n",
      "Avg - 46.16949152542373 | speech - 1877-Hayes.txt\n",
      "Avg - 28.919642857142858 | speech - 1881-Garfield.txt\n",
      "Avg - 41.54545454545455 | speech - 1885-Cleveland.txt\n",
      "Avg - 30.254777070063696 | speech - 1889-Harrison.txt\n",
      "Avg - 37.12068965517241 | speech - 1893-Cleveland.txt\n",
      "Avg - 33.62307692307692 | speech - 1897-McKinley.txt\n",
      "Avg - 24.5 | speech - 1901-McKinley.txt\n",
      "Avg - 33.06060606060606 | speech - 1905-Roosevelt.txt\n",
      "Avg - 36.76729559748428 | speech - 1909-Taft.txt\n",
      "Avg - 28.014705882352942 | speech - 1913-Wilson.txt\n",
      "Avg - 27.6 | speech - 1917-Wilson.txt\n",
      "Avg - 25.20805369127517 | speech - 1921-Harding.txt\n",
      "Avg - 22.548223350253807 | speech - 1925-Coolidge.txt\n",
      "Avg - 24.620253164556964 | speech - 1929-Hoover.txt\n",
      "Avg - 24.270588235294117 | speech - 1933-Roosevelt.txt\n",
      "Avg - 21.03125 | speech - 1937-Roosevelt.txt\n",
      "Avg - 22.58823529411765 | speech - 1941-Roosevelt.txt\n",
      "Avg - 24.5 | speech - 1945-Roosevelt.txt\n",
      "Avg - 21.79310344827586 | speech - 1949-Truman.txt\n",
      "Avg - 22.5609756097561 | speech - 1953-Eisenhower.txt\n",
      "Avg - 20.83695652173913 | speech - 1957-Eisenhower.txt\n",
      "Avg - 29.73076923076923 | speech - 1961-Kennedy.txt\n",
      "Avg - 18.24468085106383 | speech - 1965-Johnson.txt\n",
      "Avg - 22.87735849056604 | speech - 1969-Nixon.txt\n",
      "Avg - 29.391304347826086 | speech - 1973-Nixon.txt\n",
      "Avg - 26.037735849056602 | speech - 1977-Carter.txt\n",
      "Avg - 22.055118110236222 | speech - 1981-Reagan.txt\n",
      "Avg - 23.38095238095238 | speech - 1985-Reagan.txt\n",
      "Avg - 18.71034482758621 | speech - 1989-Bush.txt\n",
      "Avg - 22.901234567901234 | speech - 1993-Clinton.txt\n",
      "Avg - 21.982142857142858 | speech - 1997-Clinton.txt\n",
      "Avg - 18.814432989690722 | speech - 2001-Bush.txt\n",
      "Avg - 25.010526315789473 | speech - 2005-Bush.txt\n",
      "Avg - 24.339285714285715 | speech - 2009-Obama.txt\n"
     ]
    }
   ],
   "source": [
    "# Now iterating through the list of tuples\n",
    "for words_count, sents_count, speech in speech_words_and_sentences_count:\n",
    "    # Printing the average number of words per sentence and corresponding speech\n",
    "    print('Avg -' , words_count/sents_count, '| speech -', speech)"
   ]
  },
  {
   "cell_type": "code",
   "execution_count": 10,
   "metadata": {},
   "outputs": [],
   "source": [
    "# the best way to interpret any data is to visualize it\n",
    "# we use pandas dataframes to visualize the data\n",
    "import pandas as pd"
   ]
  },
  {
   "cell_type": "code",
   "execution_count": 11,
   "metadata": {},
   "outputs": [],
   "source": [
    "# Creating a dataframe\n",
    "# speech = 2009-Obama.txt -> then speech[:4] will give the year i.e 2009\n",
    "# using the speech_words_and_sentences_count which contains the words_count, sents_count, speech information\n",
    "# Converting the average value into integer\n",
    "data = pd.DataFrame([int(speech[:4]), int(words_count/sents_count)] \n",
    "                    for words_count, sents_count, speech in speech_words_and_sentences_count)"
   ]
  },
  {
   "cell_type": "code",
   "execution_count": 12,
   "metadata": {},
   "outputs": [
    {
     "data": {
      "text/html": [
       "<div>\n",
       "<style scoped>\n",
       "    .dataframe tbody tr th:only-of-type {\n",
       "        vertical-align: middle;\n",
       "    }\n",
       "\n",
       "    .dataframe tbody tr th {\n",
       "        vertical-align: top;\n",
       "    }\n",
       "\n",
       "    .dataframe thead th {\n",
       "        text-align: right;\n",
       "    }\n",
       "</style>\n",
       "<table border=\"1\" class=\"dataframe\">\n",
       "  <thead>\n",
       "    <tr style=\"text-align: right;\">\n",
       "      <th></th>\n",
       "      <th>0</th>\n",
       "      <th>1</th>\n",
       "    </tr>\n",
       "  </thead>\n",
       "  <tbody>\n",
       "    <tr>\n",
       "      <th>0</th>\n",
       "      <td>1789</td>\n",
       "      <td>64</td>\n",
       "    </tr>\n",
       "    <tr>\n",
       "      <th>1</th>\n",
       "      <td>1793</td>\n",
       "      <td>36</td>\n",
       "    </tr>\n",
       "    <tr>\n",
       "      <th>2</th>\n",
       "      <td>1797</td>\n",
       "      <td>69</td>\n",
       "    </tr>\n",
       "    <tr>\n",
       "      <th>3</th>\n",
       "      <td>1801</td>\n",
       "      <td>46</td>\n",
       "    </tr>\n",
       "    <tr>\n",
       "      <th>4</th>\n",
       "      <td>1805</td>\n",
       "      <td>52</td>\n",
       "    </tr>\n",
       "    <tr>\n",
       "      <th>5</th>\n",
       "      <td>1809</td>\n",
       "      <td>60</td>\n",
       "    </tr>\n",
       "    <tr>\n",
       "      <th>6</th>\n",
       "      <td>1813</td>\n",
       "      <td>39</td>\n",
       "    </tr>\n",
       "    <tr>\n",
       "      <th>7</th>\n",
       "      <td>1817</td>\n",
       "      <td>30</td>\n",
       "    </tr>\n",
       "    <tr>\n",
       "      <th>8</th>\n",
       "      <td>1821</td>\n",
       "      <td>38</td>\n",
       "    </tr>\n",
       "    <tr>\n",
       "      <th>9</th>\n",
       "      <td>1825</td>\n",
       "      <td>42</td>\n",
       "    </tr>\n",
       "  </tbody>\n",
       "</table>\n",
       "</div>"
      ],
      "text/plain": [
       "      0   1\n",
       "0  1789  64\n",
       "1  1793  36\n",
       "2  1797  69\n",
       "3  1801  46\n",
       "4  1805  52\n",
       "5  1809  60\n",
       "6  1813  39\n",
       "7  1817  30\n",
       "8  1821  38\n",
       "9  1825  42"
      ]
     },
     "execution_count": 12,
     "metadata": {},
     "output_type": "execute_result"
    }
   ],
   "source": [
    "# Lets see the first 10 values of the dataframe, year vs average\n",
    "data.head(10)"
   ]
  },
  {
   "cell_type": "code",
   "execution_count": 13,
   "metadata": {},
   "outputs": [],
   "source": [
    "# Now chaning the column values to Year and Average WPS(Words per second)\n",
    "data.columns = ['Year', 'Average WPS']"
   ]
  },
  {
   "cell_type": "code",
   "execution_count": 14,
   "metadata": {},
   "outputs": [
    {
     "data": {
      "text/html": [
       "<div>\n",
       "<style scoped>\n",
       "    .dataframe tbody tr th:only-of-type {\n",
       "        vertical-align: middle;\n",
       "    }\n",
       "\n",
       "    .dataframe tbody tr th {\n",
       "        vertical-align: top;\n",
       "    }\n",
       "\n",
       "    .dataframe thead th {\n",
       "        text-align: right;\n",
       "    }\n",
       "</style>\n",
       "<table border=\"1\" class=\"dataframe\">\n",
       "  <thead>\n",
       "    <tr style=\"text-align: right;\">\n",
       "      <th></th>\n",
       "      <th>Year</th>\n",
       "      <th>Average WPS</th>\n",
       "    </tr>\n",
       "  </thead>\n",
       "  <tbody>\n",
       "    <tr>\n",
       "      <th>0</th>\n",
       "      <td>1789</td>\n",
       "      <td>64</td>\n",
       "    </tr>\n",
       "    <tr>\n",
       "      <th>1</th>\n",
       "      <td>1793</td>\n",
       "      <td>36</td>\n",
       "    </tr>\n",
       "    <tr>\n",
       "      <th>2</th>\n",
       "      <td>1797</td>\n",
       "      <td>69</td>\n",
       "    </tr>\n",
       "    <tr>\n",
       "      <th>3</th>\n",
       "      <td>1801</td>\n",
       "      <td>46</td>\n",
       "    </tr>\n",
       "    <tr>\n",
       "      <th>4</th>\n",
       "      <td>1805</td>\n",
       "      <td>52</td>\n",
       "    </tr>\n",
       "    <tr>\n",
       "      <th>5</th>\n",
       "      <td>1809</td>\n",
       "      <td>60</td>\n",
       "    </tr>\n",
       "    <tr>\n",
       "      <th>6</th>\n",
       "      <td>1813</td>\n",
       "      <td>39</td>\n",
       "    </tr>\n",
       "    <tr>\n",
       "      <th>7</th>\n",
       "      <td>1817</td>\n",
       "      <td>30</td>\n",
       "    </tr>\n",
       "    <tr>\n",
       "      <th>8</th>\n",
       "      <td>1821</td>\n",
       "      <td>38</td>\n",
       "    </tr>\n",
       "    <tr>\n",
       "      <th>9</th>\n",
       "      <td>1825</td>\n",
       "      <td>42</td>\n",
       "    </tr>\n",
       "  </tbody>\n",
       "</table>\n",
       "</div>"
      ],
      "text/plain": [
       "   Year  Average WPS\n",
       "0  1789           64\n",
       "1  1793           36\n",
       "2  1797           69\n",
       "3  1801           46\n",
       "4  1805           52\n",
       "5  1809           60\n",
       "6  1813           39\n",
       "7  1817           30\n",
       "8  1821           38\n",
       "9  1825           42"
      ]
     },
     "execution_count": 14,
     "metadata": {},
     "output_type": "execute_result"
    }
   ],
   "source": [
    "# Now lets see the column names changed from 0,1 to Year, Average WPS\n",
    "data.head(10)"
   ]
  },
  {
   "cell_type": "code",
   "execution_count": 17,
   "metadata": {},
   "outputs": [
    {
     "data": {
      "text/plain": [
       "<matplotlib.axes._subplots.AxesSubplot at 0xd79b626e48>"
      ]
     },
     "execution_count": 17,
     "metadata": {},
     "output_type": "execute_result"
    },
    {
     "data": {
      "image/png": "[encoded data removed]",
      "text/plain": [
       "<matplotlib.figure.Figure at 0xd79b626748>"
      ]
     },
     "metadata": {},
     "output_type": "display_data"
    }
   ],
   "source": [
    "import matplotlib\n",
    "%matplotlib inline\n",
    "data.plot('Year', figsize=(15, 5))"
   ]
  },
  {
   "cell_type": "code",
   "execution_count": null,
   "metadata": {},
   "outputs": [],
   "source": []
  }
 ],
 "metadata": {
  "kernelspec": {
   "display_name": "Python 3",
   "language": "python",
   "name": "python3"
  },
  "language_info": {
   "codemirror_mode": {
    "name": "ipython",
    "version": 3
   },
   "file_extension": ".py",
   "mimetype": "text/x-python",
   "name": "python",
   "nbconvert_exporter": "python",
   "pygments_lexer": "ipython3",
   "version": "3.6.4"
  }
 },
 "nbformat": 4,
 "nbformat_minor": 2
}
