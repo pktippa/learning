{
 "cells": [
  {
   "cell_type": "code",
   "execution_count": 1,
   "metadata": {},
   "outputs": [],
   "source": [
    "# Bigrams are the words that come next to each other or two consecutive words in a sentence\n",
    "# Same as Bigrams, trigrams are those whose 3 words are consecutive in a sentnce\n",
    "# Now for ngrams, those are n consecutive words in a given sentence"
   ]
  },
  {
   "cell_type": "code",
   "execution_count": 2,
   "metadata": {},
   "outputs": [],
   "source": [
    "# Importing nltk\n",
    "import nltk"
   ]
  },
  {
   "cell_type": "code",
   "execution_count": 3,
   "metadata": {},
   "outputs": [],
   "source": [
    "# Taking the text/sentence to process\n",
    "text1 = \"I think it might rain today.\""
   ]
  },
  {
   "cell_type": "code",
   "execution_count": 4,
   "metadata": {},
   "outputs": [],
   "source": [
    "# Tokenizing all the words in the text\n",
    "tokens = nltk.word_tokenize(text1)"
   ]
  },
  {
   "cell_type": "code",
   "execution_count": 5,
   "metadata": {},
   "outputs": [],
   "source": [
    "# Getting the bigrams for the tokens\n",
    "bigrams = nltk.bigrams(tokens)"
   ]
  },
  {
   "cell_type": "code",
   "execution_count": 6,
   "metadata": {},
   "outputs": [
    {
     "name": "stdout",
     "output_type": "stream",
     "text": [
      "('I', 'think')\n",
      "('think', 'it')\n",
      "('it', 'might')\n",
      "('might', 'rain')\n",
      "('rain', 'today')\n",
      "('today', '.')\n"
     ]
    }
   ],
   "source": [
    "# Iterating through bigrams and printing the same\n",
    "# Obs: We can see that each item is a tuple with two strings, which are consecutive\n",
    "for item in bigrams:\n",
    "    print(item)"
   ]
  },
  {
   "cell_type": "code",
   "execution_count": 7,
   "metadata": {},
   "outputs": [],
   "source": [
    "# Now lets see the trigrams for same text, words of tokens\n",
    "trigrams = nltk.trigrams(tokens)"
   ]
  },
  {
   "cell_type": "code",
   "execution_count": 8,
   "metadata": {},
   "outputs": [
    {
     "name": "stdout",
     "output_type": "stream",
     "text": [
      "('I', 'think', 'it')\n",
      "('think', 'it', 'might')\n",
      "('it', 'might', 'rain')\n",
      "('might', 'rain', 'today')\n",
      "('rain', 'today', '.')\n"
     ]
    }
   ],
   "source": [
    "# Iterating through the trigrams and printing the same\n",
    "# Obs: We can see that each item is a tuple with 3 strings, which are consecutive\n",
    "for item in trigrams:\n",
    "    print(item)"
   ]
  },
  {
   "cell_type": "code",
   "execution_count": 9,
   "metadata": {},
   "outputs": [],
   "source": [
    "# Now using the generic ngrams\n",
    "from nltk.util import ngrams"
   ]
  },
  {
   "cell_type": "code",
   "execution_count": 10,
   "metadata": {},
   "outputs": [],
   "source": [
    "# ngrams methods accepts tokens and number Ex: for bigrams-> 2, trigrams -> 3\n",
    "# getting bigrams from ngrams\n",
    "bigrams = ngrams(tokens, 2)"
   ]
  },
  {
   "cell_type": "code",
   "execution_count": 11,
   "metadata": {},
   "outputs": [
    {
     "name": "stdout",
     "output_type": "stream",
     "text": [
      "('I', 'think')\n",
      "('think', 'it')\n",
      "('it', 'might')\n",
      "('might', 'rain')\n",
      "('rain', 'today')\n",
      "('today', '.')\n"
     ]
    }
   ],
   "source": [
    "for item in bigrams:\n",
    "    print(item)"
   ]
  },
  {
   "cell_type": "code",
   "execution_count": 12,
   "metadata": {},
   "outputs": [],
   "source": [
    "# getting trigrams from ngrams\n",
    "trigrams = ngrams(tokens, 3)"
   ]
  },
  {
   "cell_type": "code",
   "execution_count": 13,
   "metadata": {},
   "outputs": [
    {
     "name": "stdout",
     "output_type": "stream",
     "text": [
      "('I', 'think', 'it')\n",
      "('think', 'it', 'might')\n",
      "('it', 'might', 'rain')\n",
      "('might', 'rain', 'today')\n",
      "('rain', 'today', '.')\n"
     ]
    }
   ],
   "source": [
    "for item in trigrams:\n",
    "    print(item)"
   ]
  },
  {
   "cell_type": "markdown",
   "metadata": {},
   "source": [
    "Like this you can go from bigrams to ngrams, by giving numbers from 2 to n."
   ]
  }
 ],
 "metadata": {
  "kernelspec": {
   "display_name": "Python 3",
   "language": "python",
   "name": "python3"
  },
  "language_info": {
   "codemirror_mode": {
    "name": "ipython",
    "version": 3
   },
   "file_extension": ".py",
   "mimetype": "text/x-python",
   "name": "python",
   "nbconvert_exporter": "python",
   "pygments_lexer": "ipython3",
   "version": "3.6.4"
  }
 },
 "nbformat": 4,
 "nbformat_minor": 2
}
