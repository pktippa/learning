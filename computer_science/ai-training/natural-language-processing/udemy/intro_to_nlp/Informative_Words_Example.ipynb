{
 "cells": [
  {
   "cell_type": "code",
   "execution_count": 1,
   "metadata": {},
   "outputs": [],
   "source": [
    "# The idea to get more informative words from a book is\n",
    "# Get the frequency distribution(FD) of words for a book (ex: alice in wonderland), get 100 most common words(CW) - FD1_100\n",
    "# Get FD of words for another book (ex: moby dick), get 100 most common words(CW) - FD2_100\n",
    "# Extract only words from the FD CW lists for both\n",
    "# Take a difference from one to another, which will give the most common of one book with respect to other\n",
    "# which gives the informative words for that book."
   ]
  },
  {
   "cell_type": "code",
   "execution_count": 2,
   "metadata": {},
   "outputs": [],
   "source": [
    "import nltk"
   ]
  },
  {
   "cell_type": "code",
   "execution_count": 3,
   "metadata": {},
   "outputs": [],
   "source": [
    "# Loading the alice wonderland book words\n",
    "alice = nltk.corpus.gutenberg.words('carroll-alice.txt')"
   ]
  },
  {
   "cell_type": "code",
   "execution_count": 4,
   "metadata": {},
   "outputs": [],
   "source": [
    "# Creating the frequency distribution\n",
    "alice_fd = nltk.FreqDist(alice)"
   ]
  },
  {
   "cell_type": "code",
   "execution_count": 5,
   "metadata": {},
   "outputs": [],
   "source": [
    "# Getting the first 100 most common words from frequency distribution\n",
    "alice_fd_mc_100 = alice_fd.most_common(100)"
   ]
  },
  {
   "cell_type": "code",
   "execution_count": 6,
   "metadata": {},
   "outputs": [],
   "source": [
    "# Now performing the same for moby dick book\n",
    "moby = nltk.corpus.gutenberg.words('melville-moby_dick.txt')\n",
    "moby_fd = nltk.FreqDist(moby)\n",
    "moby_fd_mc_100 = moby_fd.most_common(100)"
   ]
  },
  {
   "cell_type": "code",
   "execution_count": 7,
   "metadata": {},
   "outputs": [],
   "source": [
    "# Extracting only words from most common words\n",
    "# [('Turtle', 59), ('quite', 53)] => ['Turtle', 'quite']\n",
    "alice_words_100 = [word[0] for word in alice_fd_mc_100]\n",
    "moby_words_100 = [word[0] for word in moby_fd_mc_100]"
   ]
  },
  {
   "cell_type": "code",
   "execution_count": 8,
   "metadata": {},
   "outputs": [],
   "source": [
    "# Now getting the informative words for\n",
    "# Alice -> (alive_words - moby_words)\n",
    "# Moby -> (moby_words - alive_words)\n",
    "alice_informative_words = set(alice_words_100) - set(moby_words_100)\n",
    "moby_informative_words = set(moby_words_100) - set(alice_words_100)"
   ]
  },
  {
   "cell_type": "code",
   "execution_count": 9,
   "metadata": {},
   "outputs": [
    {
     "data": {
      "text/plain": [
       "{\"!'\",\n",
       " '*',\n",
       " \",'\",\n",
       " \".'\",\n",
       " ':',\n",
       " \"?'\",\n",
       " 'Alice',\n",
       " 'Gryphon',\n",
       " 'Hatter',\n",
       " 'King',\n",
       " 'Mock',\n",
       " 'Queen',\n",
       " 'Turtle',\n",
       " 'again',\n",
       " 'began',\n",
       " 'can',\n",
       " 'could',\n",
       " 'did',\n",
       " 'do',\n",
       " 'herself',\n",
       " 'know',\n",
       " 'little',\n",
       " 'll',\n",
       " 'm',\n",
       " 'much',\n",
       " 'off',\n",
       " 'quite',\n",
       " 'said',\n",
       " 'say',\n",
       " 'see',\n",
       " 'she',\n",
       " 't',\n",
       " 'thought',\n",
       " 'way',\n",
       " 'went',\n",
       " 'your'}"
      ]
     },
     "execution_count": 9,
     "metadata": {},
     "output_type": "execute_result"
    }
   ],
   "source": [
    "# From the set of words below, observe names like 'Alice', 'Gryphon', 'King', 'Queen'\n",
    "# Which talks about the book of alice in wonderland\n",
    "alice_informative_words"
   ]
  },
  {
   "cell_type": "code",
   "execution_count": 10,
   "metadata": {},
   "outputs": [
    {
     "data": {
      "text/plain": [
       "{'!\"',\n",
       " '\"',\n",
       " '.\"',\n",
       " '?',\n",
       " 'Ahab',\n",
       " 'But',\n",
       " 'any',\n",
       " 'are',\n",
       " 'been',\n",
       " 'boat',\n",
       " 'from',\n",
       " 'head',\n",
       " 'him',\n",
       " 'long',\n",
       " 'man',\n",
       " 'more',\n",
       " 'now',\n",
       " 'old',\n",
       " 'only',\n",
       " 'other',\n",
       " 'over',\n",
       " 'sea',\n",
       " 'ship',\n",
       " 'some',\n",
       " 'such',\n",
       " 'than',\n",
       " 'their',\n",
       " 'these',\n",
       " 'though',\n",
       " 'upon',\n",
       " 'we',\n",
       " 'whale',\n",
       " 'which',\n",
       " 'who',\n",
       " 'will',\n",
       " 'ye'}"
      ]
     },
     "execution_count": 10,
     "metadata": {},
     "output_type": "execute_result"
    }
   ],
   "source": [
    "# From the set of words below, observe names like 'Ahab', 'boat', 'sea', 'ship', 'whale'\n",
    "# Which talks about the book of alice in wonderland\n",
    "moby_informative_words"
   ]
  }
 ],
 "metadata": {
  "kernelspec": {
   "display_name": "Python 3",
   "language": "python",
   "name": "python3"
  },
  "language_info": {
   "codemirror_mode": {
    "name": "ipython",
    "version": 3
   },
   "file_extension": ".py",
   "mimetype": "text/x-python",
   "name": "python",
   "nbconvert_exporter": "python",
   "pygments_lexer": "ipython3",
   "version": "3.6.4"
  }
 },
 "nbformat": 4,
 "nbformat_minor": 2
}
