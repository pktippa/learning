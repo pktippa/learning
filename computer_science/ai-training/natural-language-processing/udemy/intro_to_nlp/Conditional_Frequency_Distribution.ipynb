{
 "cells": [
  {
   "cell_type": "code",
   "execution_count": 1,
   "metadata": {},
   "outputs": [],
   "source": [
    "# Conditional Frequency Distribution\n",
    "# on nltk for a given list of tuples gives the \n",
    "import nltk"
   ]
  },
  {
   "cell_type": "code",
   "execution_count": 2,
   "metadata": {},
   "outputs": [],
   "source": [
    "names = [('Group A', 'Hari'), ('Group A', 'Bhavu'), ('Group A', 'Siri'), \n",
    "         ('Group B', 'Ajith'), ('Group B', 'Kittu'), ('Group B', 'Kittu'), ('Group B', 'Laks')]"
   ]
  },
  {
   "cell_type": "code",
   "execution_count": 3,
   "metadata": {},
   "outputs": [
    {
     "data": {
      "text/plain": [
       "FreqDist({('Group A', 'Bhavu'): 1,\n",
       "          ('Group A', 'Hari'): 1,\n",
       "          ('Group A', 'Siri'): 1,\n",
       "          ('Group B', 'Ajith'): 1,\n",
       "          ('Group B', 'Kittu'): 2,\n",
       "          ('Group B', 'Laks'): 1})"
      ]
     },
     "execution_count": 3,
     "metadata": {},
     "output_type": "execute_result"
    }
   ],
   "source": [
    "# When we run .FreqDist(), the distribution listed with by tuples\n",
    "nltk.FreqDist(names)"
   ]
  },
  {
   "cell_type": "code",
   "execution_count": 4,
   "metadata": {},
   "outputs": [
    {
     "data": {
      "text/plain": [
       "ConditionalFreqDist(nltk.probability.FreqDist,\n",
       "                    {'Group A': FreqDist({'Bhavu': 1, 'Hari': 1, 'Siri': 1}),\n",
       "                     'Group B': FreqDist({'Ajith': 1, 'Kittu': 2, 'Laks': 1})})"
      ]
     },
     "execution_count": 4,
     "metadata": {},
     "output_type": "execute_result"
    }
   ],
   "source": [
    "# When we used .ConditionalFreqDist() it grouped by first string with FreqDist as key with second string of tuple\n",
    "# and value as the counter of it\n",
    "nltk.ConditionalFreqDist(names)"
   ]
  },
  {
   "cell_type": "code",
   "execution_count": null,
   "metadata": {},
   "outputs": [],
   "source": []
  }
 ],
 "metadata": {
  "kernelspec": {
   "display_name": "Python 3",
   "language": "python",
   "name": "python3"
  },
  "language_info": {
   "codemirror_mode": {
    "name": "ipython",
    "version": 3
   },
   "file_extension": ".py",
   "mimetype": "text/x-python",
   "name": "python",
   "nbconvert_exporter": "python",
   "pygments_lexer": "ipython3",
   "version": "3.6.4"
  }
 },
 "nbformat": 4,
 "nbformat_minor": 2
}
