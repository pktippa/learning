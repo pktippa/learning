{
 "cells": [
  {
   "cell_type": "code",
   "execution_count": 1,
   "metadata": {},
   "outputs": [],
   "source": [
    "# Tokenization is splitting the text/sentence into mutiple strings/words\n",
    "# Use .word_tokenize() to tokenize by words, .sent_tokenize() to tokenize by sentences"
   ]
  },
  {
   "cell_type": "code",
   "execution_count": 2,
   "metadata": {},
   "outputs": [],
   "source": [
    "import nltk"
   ]
  },
  {
   "cell_type": "code",
   "execution_count": 3,
   "metadata": {},
   "outputs": [],
   "source": [
    "text1 = 'I am learning the Natural Language Processing.'"
   ]
  },
  {
   "cell_type": "code",
   "execution_count": 4,
   "metadata": {},
   "outputs": [],
   "source": [
    "# using .word_tokenize() to tokenize the sentence by words\n",
    "# Obs: it is split the string by spaces or paranthesis\n",
    "text1_tokens = nltk.word_tokenize(text1)"
   ]
  },
  {
   "cell_type": "code",
   "execution_count": 5,
   "metadata": {},
   "outputs": [
    {
     "data": {
      "text/plain": [
       "['I', 'am', 'learning', 'the', 'Natural', 'Language', 'Processing', '.']"
      ]
     },
     "execution_count": 5,
     "metadata": {},
     "output_type": "execute_result"
    }
   ],
   "source": [
    "# We got 8 word tokens here\n",
    "text1_tokens"
   ]
  },
  {
   "cell_type": "code",
   "execution_count": 6,
   "metadata": {},
   "outputs": [],
   "source": [
    "sent1 = 'I am learning the Natural Language Processing. It is fun to Learn.'"
   ]
  },
  {
   "cell_type": "code",
   "execution_count": 7,
   "metadata": {},
   "outputs": [],
   "source": [
    "# using .sent_tokenize() to tokenize the text by sentences\n",
    "# Obs: it is split the string by paranthesis(after optional space)\n",
    "sent1_tokens = nltk.sent_tokenize(sent1)"
   ]
  },
  {
   "cell_type": "code",
   "execution_count": 8,
   "metadata": {},
   "outputs": [
    {
     "data": {
      "text/plain": [
       "['I am learning the Natural Language Processing.', 'It is fun to Learn.']"
      ]
     },
     "execution_count": 8,
     "metadata": {},
     "output_type": "execute_result"
    }
   ],
   "source": [
    "# We got 2 sentence tokens here\n",
    "sent1_tokens"
   ]
  },
  {
   "cell_type": "code",
   "execution_count": 9,
   "metadata": {},
   "outputs": [
    {
     "name": "stdout",
     "output_type": "stream",
     "text": [
      "['I', 'am', 'learning', 'the', 'Natural', 'Language', 'Processing', '.']\n",
      "['It', 'is', 'fun', 'to', 'Learn', '.']\n"
     ]
    }
   ],
   "source": [
    "# We can loop through the sent tokens and generate the word tokens for each sent token\n",
    "for sent_tkn in sent1_tokens:\n",
    "    word_tkns = nltk.word_tokenize(sent_tkn)\n",
    "    print(word_tkns)"
   ]
  },
  {
   "cell_type": "code",
   "execution_count": null,
   "metadata": {},
   "outputs": [],
   "source": []
  }
 ],
 "metadata": {
  "kernelspec": {
   "display_name": "Python 3",
   "language": "python",
   "name": "python3"
  },
  "language_info": {
   "codemirror_mode": {
    "name": "ipython",
    "version": 3
   },
   "file_extension": ".py",
   "mimetype": "text/x-python",
   "name": "python",
   "nbconvert_exporter": "python",
   "pygments_lexer": "ipython3",
   "version": "3.6.4"
  }
 },
 "nbformat": 4,
 "nbformat_minor": 2
}
