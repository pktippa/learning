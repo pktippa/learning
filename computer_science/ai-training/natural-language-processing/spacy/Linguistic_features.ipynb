{
 "cells": [
  {
   "cell_type": "code",
   "execution_count": 1,
   "metadata": {},
   "outputs": [],
   "source": [
    "# https://spacy.io/usage/linguistic-features\n",
    "# Importing spacy\n",
    "import spacy"
   ]
  },
  {
   "cell_type": "code",
   "execution_count": 2,
   "metadata": {},
   "outputs": [],
   "source": [
    "# Loading language model\n",
    "nlp = spacy.load('en')"
   ]
  },
  {
   "cell_type": "code",
   "execution_count": 3,
   "metadata": {},
   "outputs": [
    {
     "name": "stdout",
     "output_type": "stream",
     "text": [
      "Text - Autonomous cars | Root Text - cars | Root Dep - nsubj | Root Head text shift\n",
      "Dep Explanation - nsubj - nominal subject \n",
      "\n",
      "Text - insurance liability | Root Text - liability | Root Dep - dobj | Root Head text shift\n",
      "Dep Explanation - dobj - direct object \n",
      "\n",
      "Text - manufacturers | Root Text - manufacturers | Root Dep - pobj | Root Head text toward\n",
      "Dep Explanation - pobj - object of preposition \n",
      "\n"
     ]
    }
   ],
   "source": [
    "# Noun Chunks\n",
    "\n",
    "doc = nlp(u'Autonomous cars shift insurance liability toward manufacturers')\n",
    "\n",
    "# Text: The original noun chunk text.\n",
    "# Root text: The original text of the word connecting the noun chunk to the rest of the parse.\n",
    "# Root dep: Dependency relation connecting the root to its head.\n",
    "# Root head text: The text of the root token's head.\n",
    "\n",
    "for chunk in doc.noun_chunks:\n",
    "    # Printing the attributes of chunk\n",
    "    print('Text -', chunk.text, '|', 'Root Text -', chunk.root.text, '|',\n",
    "          'Root Dep -', chunk.root.dep_, '|', 'Root Head text', chunk.root.head.text)\n",
    "    # Printing the explanation of root dep of chunk\n",
    "    print('Dep Explanation -', chunk.root.dep_ ,'-', spacy.explain(chunk.root.dep_), '\\n')"
   ]
  },
  {
   "cell_type": "code",
   "execution_count": 4,
   "metadata": {},
   "outputs": [
    {
     "name": "stdout",
     "output_type": "stream",
     "text": [
      "Text - Autonomous | Dep -  amod | Head Text - cars | Head POS - NOUN | Children -  []\n",
      "Text - cars | Dep -  nsubj | Head Text - shift | Head POS - VERB | Children -  [Autonomous]\n",
      "Text - shift | Dep -  ROOT | Head Text - shift | Head POS - VERB | Children -  [cars, liability, toward]\n",
      "Text - insurance | Dep -  compound | Head Text - liability | Head POS - NOUN | Children -  []\n",
      "Text - liability | Dep -  dobj | Head Text - shift | Head POS - VERB | Children -  [insurance]\n",
      "Text - toward | Dep -  prep | Head Text - shift | Head POS - VERB | Children -  [manufacturers]\n",
      "Text - manufacturers | Dep -  pobj | Head Text - toward | Head POS - ADP | Children -  []\n"
     ]
    }
   ],
   "source": [
    "# Navigating Parse Tree. More here - https://spacy.io/usage/linguistic-features#navigating\n",
    "# spaCy uses the terms head and child to describe the words connected by a single arc in the dependency tree.\n",
    "\n",
    "# Text: The original token text.\n",
    "# Dep: The syntactic relation connecting child to head.\n",
    "# Head text: The original text of the token head.\n",
    "# Head POS: The part-of-speech tag of the token head.\n",
    "# Children: The immediate syntactic dependents of the token.\n",
    "doc = nlp(u'Autonomous cars shift insurance liability toward manufacturers')\n",
    "for token in doc:\n",
    "    print('Text -', token.text, '|', 'Dep - ', token.dep_, '|', 'Head Text -', token.head.text\n",
    "          , '|', 'Head POS -', token.head.pos_, '|', 'Children - ', [child for child in token.children])"
   ]
  },
  {
   "cell_type": "code",
   "execution_count": 5,
   "metadata": {},
   "outputs": [
    {
     "data": {
      "text/html": [
       "<svg xmlns=\"http://www.w3.org/2000/svg\" xmlns:xlink=\"http://www.w3.org/1999/xlink\" id=\"0\" class=\"displacy\" width=\"1275\" height=\"399.5\" style=\"max-width: none; height: 399.5px; color: #000000; background: #ffffff; font-family: Arial\">\n",
       "<text class=\"displacy-token\" fill=\"currentColor\" text-anchor=\"middle\" y=\"309.5\">\n",
       "    <tspan class=\"displacy-word\" fill=\"currentColor\" x=\"50\">Autonomous</tspan>\n",
       "    <tspan class=\"displacy-tag\" dy=\"2em\" fill=\"currentColor\" x=\"50\">ADJ</tspan>\n",
       "</text>\n",
       "\n",
       "<text class=\"displacy-token\" fill=\"currentColor\" text-anchor=\"middle\" y=\"309.5\">\n",
       "    <tspan class=\"displacy-word\" fill=\"currentColor\" x=\"225\">cars</tspan>\n",
       "    <tspan class=\"displacy-tag\" dy=\"2em\" fill=\"currentColor\" x=\"225\">NOUN</tspan>\n",
       "</text>\n",
       "\n",
       "<text class=\"displacy-token\" fill=\"currentColor\" text-anchor=\"middle\" y=\"309.5\">\n",
       "    <tspan class=\"displacy-word\" fill=\"currentColor\" x=\"400\">shift</tspan>\n",
       "    <tspan class=\"displacy-tag\" dy=\"2em\" fill=\"currentColor\" x=\"400\">VERB</tspan>\n",
       "</text>\n",
       "\n",
       "<text class=\"displacy-token\" fill=\"currentColor\" text-anchor=\"middle\" y=\"309.5\">\n",
       "    <tspan class=\"displacy-word\" fill=\"currentColor\" x=\"575\">insurance</tspan>\n",
       "    <tspan class=\"displacy-tag\" dy=\"2em\" fill=\"currentColor\" x=\"575\">NOUN</tspan>\n",
       "</text>\n",
       "\n",
       "<text class=\"displacy-token\" fill=\"currentColor\" text-anchor=\"middle\" y=\"309.5\">\n",
       "    <tspan class=\"displacy-word\" fill=\"currentColor\" x=\"750\">liability</tspan>\n",
       "    <tspan class=\"displacy-tag\" dy=\"2em\" fill=\"currentColor\" x=\"750\">NOUN</tspan>\n",
       "</text>\n",
       "\n",
       "<text class=\"displacy-token\" fill=\"currentColor\" text-anchor=\"middle\" y=\"309.5\">\n",
       "    <tspan class=\"displacy-word\" fill=\"currentColor\" x=\"925\">toward</tspan>\n",
       "    <tspan class=\"displacy-tag\" dy=\"2em\" fill=\"currentColor\" x=\"925\">ADP</tspan>\n",
       "</text>\n",
       "\n",
       "<text class=\"displacy-token\" fill=\"currentColor\" text-anchor=\"middle\" y=\"309.5\">\n",
       "    <tspan class=\"displacy-word\" fill=\"currentColor\" x=\"1100\">manufacturers</tspan>\n",
       "    <tspan class=\"displacy-tag\" dy=\"2em\" fill=\"currentColor\" x=\"1100\">NOUN</tspan>\n",
       "</text>\n",
       "\n",
       "<g class=\"displacy-arrow\">\n",
       "    <path class=\"displacy-arc\" id=\"arrow-0-0\" stroke-width=\"2px\" d=\"M70,264.5 C70,177.0 215.0,177.0 215.0,264.5\" fill=\"none\" stroke=\"currentColor\"/>\n",
       "    <text dy=\"1.25em\" style=\"font-size: 0.8em; letter-spacing: 1px\">\n",
       "        <textPath xlink:href=\"#arrow-0-0\" class=\"displacy-label\" startOffset=\"50%\" fill=\"currentColor\" text-anchor=\"middle\">amod</textPath>\n",
       "    </text>\n",
       "    <path class=\"displacy-arrowhead\" d=\"M70,266.5 L62,254.5 78,254.5\" fill=\"currentColor\"/>\n",
       "</g>\n",
       "\n",
       "<g class=\"displacy-arrow\">\n",
       "    <path class=\"displacy-arc\" id=\"arrow-0-1\" stroke-width=\"2px\" d=\"M245,264.5 C245,177.0 390.0,177.0 390.0,264.5\" fill=\"none\" stroke=\"currentColor\"/>\n",
       "    <text dy=\"1.25em\" style=\"font-size: 0.8em; letter-spacing: 1px\">\n",
       "        <textPath xlink:href=\"#arrow-0-1\" class=\"displacy-label\" startOffset=\"50%\" fill=\"currentColor\" text-anchor=\"middle\">nsubj</textPath>\n",
       "    </text>\n",
       "    <path class=\"displacy-arrowhead\" d=\"M245,266.5 L237,254.5 253,254.5\" fill=\"currentColor\"/>\n",
       "</g>\n",
       "\n",
       "<g class=\"displacy-arrow\">\n",
       "    <path class=\"displacy-arc\" id=\"arrow-0-2\" stroke-width=\"2px\" d=\"M595,264.5 C595,177.0 740.0,177.0 740.0,264.5\" fill=\"none\" stroke=\"currentColor\"/>\n",
       "    <text dy=\"1.25em\" style=\"font-size: 0.8em; letter-spacing: 1px\">\n",
       "        <textPath xlink:href=\"#arrow-0-2\" class=\"displacy-label\" startOffset=\"50%\" fill=\"currentColor\" text-anchor=\"middle\">compound</textPath>\n",
       "    </text>\n",
       "    <path class=\"displacy-arrowhead\" d=\"M595,266.5 L587,254.5 603,254.5\" fill=\"currentColor\"/>\n",
       "</g>\n",
       "\n",
       "<g class=\"displacy-arrow\">\n",
       "    <path class=\"displacy-arc\" id=\"arrow-0-3\" stroke-width=\"2px\" d=\"M420,264.5 C420,89.5 745.0,89.5 745.0,264.5\" fill=\"none\" stroke=\"currentColor\"/>\n",
       "    <text dy=\"1.25em\" style=\"font-size: 0.8em; letter-spacing: 1px\">\n",
       "        <textPath xlink:href=\"#arrow-0-3\" class=\"displacy-label\" startOffset=\"50%\" fill=\"currentColor\" text-anchor=\"middle\">dobj</textPath>\n",
       "    </text>\n",
       "    <path class=\"displacy-arrowhead\" d=\"M745.0,266.5 L753.0,254.5 737.0,254.5\" fill=\"currentColor\"/>\n",
       "</g>\n",
       "\n",
       "<g class=\"displacy-arrow\">\n",
       "    <path class=\"displacy-arc\" id=\"arrow-0-4\" stroke-width=\"2px\" d=\"M420,264.5 C420,2.0 925.0,2.0 925.0,264.5\" fill=\"none\" stroke=\"currentColor\"/>\n",
       "    <text dy=\"1.25em\" style=\"font-size: 0.8em; letter-spacing: 1px\">\n",
       "        <textPath xlink:href=\"#arrow-0-4\" class=\"displacy-label\" startOffset=\"50%\" fill=\"currentColor\" text-anchor=\"middle\">prep</textPath>\n",
       "    </text>\n",
       "    <path class=\"displacy-arrowhead\" d=\"M925.0,266.5 L933.0,254.5 917.0,254.5\" fill=\"currentColor\"/>\n",
       "</g>\n",
       "\n",
       "<g class=\"displacy-arrow\">\n",
       "    <path class=\"displacy-arc\" id=\"arrow-0-5\" stroke-width=\"2px\" d=\"M945,264.5 C945,177.0 1090.0,177.0 1090.0,264.5\" fill=\"none\" stroke=\"currentColor\"/>\n",
       "    <text dy=\"1.25em\" style=\"font-size: 0.8em; letter-spacing: 1px\">\n",
       "        <textPath xlink:href=\"#arrow-0-5\" class=\"displacy-label\" startOffset=\"50%\" fill=\"currentColor\" text-anchor=\"middle\">pobj</textPath>\n",
       "    </text>\n",
       "    <path class=\"displacy-arrowhead\" d=\"M1090.0,266.5 L1098.0,254.5 1082.0,254.5\" fill=\"currentColor\"/>\n",
       "</g>\n",
       "</svg>"
      ],
      "text/plain": [
       "<IPython.core.display.HTML object>"
      ]
     },
     "metadata": {},
     "output_type": "display_data"
    }
   ],
   "source": [
    "# Visualizing the Graph(TODO: is it tree ?)\n",
    "\n",
    "# Importing displacy from spacy\n",
    "from spacy import displacy\n",
    "\n",
    "# TODO: Why the graph is different from the graph shown in documentation\n",
    "\n",
    "# Rendering with support for jupyter\n",
    "displacy.render(doc, jupyter=True)"
   ]
  },
  {
   "cell_type": "markdown",
   "metadata": {},
   "source": [
    "Because the syntactic relations form a tree, every word has **exactly one head**. You can therefore **iterate** over the **arcs** in the **tree** by **iterating** over the **words** in the sentence. This is usually the best way to match an arc of interest — from below:"
   ]
  },
  {
   "cell_type": "code",
   "execution_count": 6,
   "metadata": {},
   "outputs": [
    {
     "name": "stdout",
     "output_type": "stream",
     "text": [
      "{shift}\n"
     ]
    }
   ],
   "source": [
    "# Importing the necessary symbols\n",
    "from spacy.symbols import nsubj, VERB\n",
    "\n",
    "# Finding a verb with a subject from below — good\n",
    "verbs = set()\n",
    "for possible_subject in doc:\n",
    "    if possible_subject.dep == nsubj and possible_subject.head.pos == VERB:\n",
    "        verbs.add(possible_subject.head)\n",
    "# Printing the verbs\n",
    "print(verbs)"
   ]
  },
  {
   "cell_type": "markdown",
   "metadata": {},
   "source": [
    "More on [Iterating over local tree](https://spacy.io/usage/linguistic-features#navigating-around) \n",
    "\n",
    "Children that occur before and after the Token\n",
    "* Token.lefts, Token.rights\n",
    "* Token.n_lefts, Token.n_rights\n",
    "\n",
    "Get a whole phrase by its syntactic head using the `Token.subtree`\n",
    "* Token.ancestors, Token.is_ancestor()"
   ]
  },
  {
   "cell_type": "code",
   "execution_count": 7,
   "metadata": {},
   "outputs": [
    {
     "name": "stdout",
     "output_type": "stream",
     "text": [
      "Root word token text -  submit\n",
      "Subject word token text - holders \n",
      "\n",
      "Descendant Text | Depenedency | No of Lefts | No of Rights | All Ancestors\n",
      "Credit | nmod | 0 | 2 | ['holders', 'submit']\n",
      "and | cc | 0 | 0 | ['Credit', 'holders', 'submit']\n",
      "mortgage | compound | 0 | 0 | ['account', 'Credit', 'holders', 'submit']\n",
      "account | conj | 1 | 0 | ['Credit', 'holders', 'submit']\n",
      "holders | nsubj | 1 | 0 | ['submit']\n"
     ]
    }
   ],
   "source": [
    "# Creating a new document from the sentence\n",
    "doc = nlp(u'Credit and mortgage account holders must submit their requests')\n",
    "# Finding out the root token\n",
    "root = [token for token in doc if token.head == token][0]\n",
    "\n",
    "print('Root word token text - ', root.text)\n",
    "\n",
    "# The other way may be\n",
    "\n",
    "\"\"\"\n",
    "for token in doc:\n",
    "    # Rather than checking with static text of 'ROOT' can we get the text from spacy.symbols ?\n",
    "    if token.dep_ == 'ROOT':\n",
    "        root = token.dep_\n",
    "        break\n",
    "\"\"\"\n",
    "# Getting the subject of the doc, that subject is always left to ROOT and it is first element of it\n",
    "# subject is also the 'Token' instance\n",
    "subject = list(root.lefts)[0]\n",
    "print('Subject word token text -', subject.text, '\\n')\n",
    "\n",
    "# Iterating over the subtree\n",
    "print('Descendant Text | Depenedency | No of Lefts | No of Rights | All Ancestors')\n",
    "for descendant in subject.subtree:\n",
    "    assert subject is descendant or subject.is_ancestor(descendant)\n",
    "    print(descendant.text, '|', descendant.dep_, '|', descendant.n_lefts, '|', descendant.n_rights,\n",
    "          '|', [ancestor.text for ancestor in descendant.ancestors])"
   ]
  },
  {
   "cell_type": "markdown",
   "metadata": {},
   "source": [
    "Finally, the `.left_edge` and `.right_edge` attributes can be especially useful, because they give you the **first** and **last** token of the `subtree`. This is the easiest way to create a `Span` object for a syntactic phrase. Note that `.right_edge` gives a token within the subtree — so if you use it as the end-point of a range(for python lists), don't forget to +1!"
   ]
  },
  {
   "cell_type": "code",
   "execution_count": 8,
   "metadata": {},
   "outputs": [
    {
     "name": "stdout",
     "output_type": "stream",
     "text": [
      "left edge(LE) -  Credit  LE Index - 0\n",
      "Right edge(RE) -  holders  RE Index - 4 \n",
      "\n",
      "Text | POST Tag | Dep | HEAD Text\n",
      "Credit and mortgage account holders | NOUN | nsubj | submit\n",
      "must | VERB | aux | submit\n",
      "submit | VERB | ROOT | submit\n",
      "their | ADJ | poss | request\n",
      "request | NOUN | dobj | submit\n"
     ]
    }
   ],
   "source": [
    "# Creating new document from sentence\n",
    "doc = nlp(u'Credit and mortgage account holders must submit their request')\n",
    "\n",
    "# Left and right edges Edges and indexes of token in a doc, Observe .i of right_edge\n",
    "print('left edge(LE) - ', doc[4].left_edge, ' LE Index -', doc[4].left_edge.i)\n",
    "print('Right edge(RE) - ', doc[4].right_edge, ' RE Index -', doc[4].right_edge.i, '\\n')\n",
    "\n",
    "span = doc[doc[4].left_edge.i : doc[4].right_edge.i+1]\n",
    "\n",
    "# Merging it to override the doc object\n",
    "span.merge()\n",
    "print('Text | POST Tag | Dep | HEAD Text')\n",
    "for token in doc:\n",
    "    print(token.text, '|', token.pos_, '|', token.dep_, '|', token.head.text)"
   ]
  },
  {
   "cell_type": "markdown",
   "metadata": {},
   "source": [
    "## Disabling Parser\n",
    "\n",
    "In the default models, the parser is loaded and enabled as part of the standard processing pipeline. We can disable it on demand, Disabling the parser will make **spaCy load and run much faster**.\n",
    "\n",
    "We can disable it a whole while loading the model, or we can also disable it for specific document"
   ]
  },
  {
   "cell_type": "code",
   "execution_count": 9,
   "metadata": {},
   "outputs": [
    {
     "name": "stdout",
     "output_type": "stream",
     "text": [
      "This\n",
      "sentence\n",
      "should\n",
      "n't\n",
      "be\n",
      "parsed\n",
      "Same\n",
      "like\n",
      "above\n",
      "sentence\n",
      ".\n",
      "I\n",
      "do\n",
      "n't\n",
      "want\n",
      "this\n",
      "to\n",
      "be\n",
      "parsed\n"
     ]
    }
   ],
   "source": [
    "en_model_disabled_parser_nlp = spacy.load('en', disable=['parser'])\n",
    "\n",
    "doc1 = en_model_disabled_parser_nlp(u\"This sentence shouldn't be parsed\")\n",
    "\n",
    "# TODO: Need to check why the word shouldn't is parsed ??\n",
    "for token in doc1:\n",
    "    print(token)\n",
    "\n",
    "doc2 = en_model_disabled_parser_nlp(u'Same like above sentence.')\n",
    "\n",
    "for token in doc2:\n",
    "    print(token)\n",
    "\n",
    "normal_model = spacy.load('en')\n",
    "\n",
    "# TODO: Need to check why the word don't is parsed ??\n",
    "doc = normal_model(u\"I don't want this to be parsed\", disable=['parser'])\n",
    "\n",
    "for token in doc:\n",
    "    print(token)"
   ]
  },
  {
   "cell_type": "code",
   "execution_count": null,
   "metadata": {},
   "outputs": [],
   "source": [
    "# Continued to Linguistic_features_entity_recognition.ipynb"
   ]
  }
 ],
 "metadata": {
  "kernelspec": {
   "display_name": "Python 3",
   "language": "python",
   "name": "python3"
  },
  "language_info": {
   "codemirror_mode": {
    "name": "ipython",
    "version": 3
   },
   "file_extension": ".py",
   "mimetype": "text/x-python",
   "name": "python",
   "nbconvert_exporter": "python",
   "pygments_lexer": "ipython3",
   "version": "3.6.4"
  }
 },
 "nbformat": 4,
 "nbformat_minor": 2
}
