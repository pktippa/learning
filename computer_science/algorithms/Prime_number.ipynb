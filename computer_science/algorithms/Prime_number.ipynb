{
 "cells": [
  {
   "cell_type": "code",
   "execution_count": 1,
   "metadata": {},
   "outputs": [
    {
     "name": "stdout",
     "output_type": "stream",
     "text": [
      "{2, 3, 5, 7, 521, 11, 523, 13, 17, 19, 23, 29, 541, 31, 37, 41, 43, 47, 53, 59, 61, 67, 71, 73, 79, 83, 89, 97, 101, 103, 107, 109, 113, 127, 131, 137, 139, 149, 151, 157, 163, 167, 173, 179, 181, 191, 193, 197, 199, 211, 223, 227, 229, 233, 239, 241, 251, 257, 263, 269, 271, 277, 281, 283, 293, 307, 311, 313, 317, 331, 337, 347, 349, 353, 359, 367, 373, 379, 383, 389, 397, 401, 409, 419, 421, 431, 433, 439, 443, 449, 457, 461, 463, 467, 479, 487, 491, 499, 503, 509}\n"
     ]
    }
   ],
   "source": [
    "# Importing match library from python\n",
    "import math\n",
    "# Verifying to number of prime numbers\n",
    "prime_num_count = 100\n",
    "# first prime number\n",
    "num = 2\n",
    "# Set for which storing the prime number\n",
    "prime_nums = set()\n",
    "\n",
    "# While prime_nums set count is reached the limit of number of prime numbers \n",
    "while len(prime_nums) < prime_num_count:\n",
    "    # Logic for checking the whether a number is prime or not\n",
    "    i = 2\n",
    "    is_prime = True\n",
    "    while i <= math.sqrt(num): # efficient way to check only till sqrt of a number\n",
    "        if num % i == 0:\n",
    "            is_prime = False\n",
    "            break\n",
    "        i += 1\n",
    "    # Adding if it is a prime number\n",
    "    if is_prime:\n",
    "        prime_nums.add(num)\n",
    "    \n",
    "    # Incrementing the next number to be checked\n",
    "    num += 1\n",
    "# Printing the prime numbers\n",
    "print(prime_nums)"
   ]
  }
 ],
 "metadata": {
  "kernelspec": {
   "display_name": "Python 3",
   "language": "python",
   "name": "python3"
  },
  "language_info": {
   "codemirror_mode": {
    "name": "ipython",
    "version": 3
   },
   "file_extension": ".py",
   "mimetype": "text/x-python",
   "name": "python",
   "nbconvert_exporter": "python",
   "pygments_lexer": "ipython3",
   "version": "3.6.4"
  }
 },
 "nbformat": 4,
 "nbformat_minor": 2
}
